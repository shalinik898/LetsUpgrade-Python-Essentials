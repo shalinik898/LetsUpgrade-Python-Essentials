{
 "cells": [
  {
   "cell_type": "markdown",
   "metadata": {},
   "source": [
    "# QUESTION 1"
   ]
  },
  {
   "cell_type": "code",
   "execution_count": 26,
   "metadata": {},
   "outputs": [],
   "source": [
    "class bank():\n",
    "    def __init__(self,ownerName,Balance):\n",
    "        self.ownerName = ownerName\n",
    "        self.Balance = Balance\n",
    "    \n",
    "    def deposit(self):\n",
    "        amounttobedeposited = int(input('Enter the amount for deposit '))\n",
    "        self.Balance += amounttobedeposited\n",
    "        print('Balance after deposit:',self.Balance)\n",
    "    \n",
    "    def withdrawls(self):\n",
    "        amounttobewithdrawn = int(input('Enter the amount for withdraw '))\n",
    "        if amounttobewithdrawn < self.Balance:\n",
    "            self.Balance -= amounttobewithdrawn\n",
    "            print('Balance after withdrawing:',self.Balance)\n",
    "        else:\n",
    "            print('You cannot withdraw due to low balance. ')\n",
    "            \n",
    "    def getDetails(self):\n",
    "        print('Name: ',self.ownerName)\n",
    "        print('Total bal: ',self.Balance)\n",
    "        \n",
    "    "
   ]
  },
  {
   "cell_type": "code",
   "execution_count": 27,
   "metadata": {},
   "outputs": [],
   "source": [
    "obj = bank(\"Shalini\",100)"
   ]
  },
  {
   "cell_type": "code",
   "execution_count": 28,
   "metadata": {},
   "outputs": [
    {
     "name": "stdout",
     "output_type": "stream",
     "text": [
      "Name:  Shalini\n",
      "Total bal:  100\n"
     ]
    }
   ],
   "source": [
    "obj.getDetails()"
   ]
  },
  {
   "cell_type": "code",
   "execution_count": 29,
   "metadata": {},
   "outputs": [
    {
     "name": "stdout",
     "output_type": "stream",
     "text": [
      "Enter the amount for deposit 100\n",
      "Balance after deposit: 200\n"
     ]
    }
   ],
   "source": [
    "obj.deposit()"
   ]
  },
  {
   "cell_type": "code",
   "execution_count": 30,
   "metadata": {},
   "outputs": [
    {
     "name": "stdout",
     "output_type": "stream",
     "text": [
      "Enter the amount for withdraw 400\n",
      "You cannot withdraw due to low balance. \n"
     ]
    }
   ],
   "source": [
    "obj.withdrawls()"
   ]
  },
  {
   "cell_type": "code",
   "execution_count": 31,
   "metadata": {},
   "outputs": [
    {
     "name": "stdout",
     "output_type": "stream",
     "text": [
      "Enter the amount for withdraw 50\n",
      "Balance after withdrawing: 150\n"
     ]
    }
   ],
   "source": [
    "obj.withdrawls()"
   ]
  },
  {
   "cell_type": "code",
   "execution_count": 32,
   "metadata": {},
   "outputs": [
    {
     "name": "stdout",
     "output_type": "stream",
     "text": [
      "Enter the amount for deposit 250\n",
      "Balance after deposit: 400\n"
     ]
    }
   ],
   "source": [
    "obj.deposit()"
   ]
  },
  {
   "cell_type": "code",
   "execution_count": 33,
   "metadata": {},
   "outputs": [
    {
     "name": "stdout",
     "output_type": "stream",
     "text": [
      "Name:  Shalini\n",
      "Total bal:  400\n"
     ]
    }
   ],
   "source": [
    "obj.getDetails()"
   ]
  },
  {
   "cell_type": "markdown",
   "metadata": {},
   "source": [
    "# QUESTION 2"
   ]
  },
  {
   "cell_type": "code",
   "execution_count": 42,
   "metadata": {},
   "outputs": [],
   "source": [
    "import math\n",
    "class cone():\n",
    "    def __init__(self,r,h):\n",
    "        self.r = r\n",
    "        self.h = h\n",
    "    def vol(self):\n",
    "        print( 'Volume is ' , 3.14 * self.r* self.r*(self.h/3) )\n",
    "    def surArea(self):\n",
    "        print( 'Base :',3.14 * self.r* self.r)\n",
    "        print('Side :',3.14* self.r* math.sqrt(self.r*self.r + self.h*self.h))\n",
    "    "
   ]
  },
  {
   "cell_type": "code",
   "execution_count": 48,
   "metadata": {},
   "outputs": [],
   "source": [
    "objcone = cone(5,5)"
   ]
  },
  {
   "cell_type": "code",
   "execution_count": 49,
   "metadata": {},
   "outputs": [
    {
     "name": "stdout",
     "output_type": "stream",
     "text": [
      "Volume is  130.83333333333334\n"
     ]
    }
   ],
   "source": [
    "objcone.vol()"
   ]
  },
  {
   "cell_type": "code",
   "execution_count": 47,
   "metadata": {},
   "outputs": [
    {
     "name": "stdout",
     "output_type": "stream",
     "text": [
      "Base : 78.5\n",
      "Side : 111.01576464628798\n"
     ]
    }
   ],
   "source": [
    "objcone.surArea()"
   ]
  },
  {
   "cell_type": "code",
   "execution_count": null,
   "metadata": {},
   "outputs": [],
   "source": []
  }
 ],
 "metadata": {
  "kernelspec": {
   "display_name": "Python 3",
   "language": "python",
   "name": "python3"
  },
  "language_info": {
   "codemirror_mode": {
    "name": "ipython",
    "version": 3
   },
   "file_extension": ".py",
   "mimetype": "text/x-python",
   "name": "python",
   "nbconvert_exporter": "python",
   "pygments_lexer": "ipython3",
   "version": "3.7.6"
  }
 },
 "nbformat": 4,
 "nbformat_minor": 4
}
